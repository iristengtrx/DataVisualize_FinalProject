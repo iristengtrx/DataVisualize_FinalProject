{
 "cells": [
  {
   "cell_type": "code",
   "execution_count": 2,
   "id": "f96aacca",
   "metadata": {},
   "outputs": [],
   "source": [
    "import pandas as pd\n",
    "\n",
    "df = pd.read_csv(\"bank_credit_scoring.csv\")"
   ]
  },
  {
   "cell_type": "code",
   "execution_count": 3,
   "id": "c5ab3c94",
   "metadata": {},
   "outputs": [
    {
     "data": {
      "text/plain": [
       "Index(['Задолженность', 'Просрочка, дни', 'Первоначльный лимит', 'BIRTHDATE',\n",
       "       'SEX', 'EDU', 'INCOME', 'TERM', 'Рейтинг кредитной истории', 'LV_AREA',\n",
       "       'LV_SETTLEMENTNAME', 'INDUSTRYNAME', 'PDN', 'CLIENTID', 'SCORINGMARK',\n",
       "       'UNDERAGECHILDRENCOUNT', 'VELCOMSCORING', 'FAMILYSTATUS'],\n",
       "      dtype='object')"
      ]
     },
     "execution_count": 3,
     "metadata": {},
     "output_type": "execute_result"
    }
   ],
   "source": [
    "df.columns"
   ]
  }
 ],
 "metadata": {
  "kernelspec": {
   "display_name": "base",
   "language": "python",
   "name": "python3"
  },
  "language_info": {
   "codemirror_mode": {
    "name": "ipython",
    "version": 3
   },
   "file_extension": ".py",
   "mimetype": "text/x-python",
   "name": "python",
   "nbconvert_exporter": "python",
   "pygments_lexer": "ipython3",
   "version": "3.9.18"
  }
 },
 "nbformat": 4,
 "nbformat_minor": 5
}
